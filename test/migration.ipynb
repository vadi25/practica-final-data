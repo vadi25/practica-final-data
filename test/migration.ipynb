{
 "cells": [
  {
   "cell_type": "code",
   "execution_count": 1,
   "metadata": {},
   "outputs": [
    {
     "name": "stdout",
     "output_type": "stream",
     "text": [
      "      skill  salary_avg  count\n",
      "0       sql   102647.28   1429\n",
      "1   tableau    99768.46    923\n",
      "2     excel    92069.73    763\n",
      "3    python   115043.74    631\n",
      "4  power_bi    99183.54    541\n"
     ]
    }
   ],
   "source": [
    "import pandas as pd\n",
    "import sqlite3\n",
    "\n",
    "# Path to your CSV file\n",
    "csv_file_path = '../data/merged_skills_data.csv'\n",
    "\n",
    "# Read CSV into a Pandas DataFrame\n",
    "df = pd.read_csv(csv_file_path)\n",
    "\n",
    "# Path to the SQLite database file\n",
    "db_file_path = '../data/merged_titles_data.db'\n",
    "\n",
    "# Establish a connection to the SQLite database\n",
    "conn = sqlite3.connect(db_file_path)\n",
    "\n",
    "# Write the DataFrame to a SQLite table\n",
    "df.to_sql('Title', conn, index=False, if_exists='replace')\n",
    "\n",
    "query = \"SELECT * FROM Title LIMIT 5\"  # Adjust YourTableName accordingly\n",
    "dfls = pd.read_sql_query(query, conn)\n",
    "\n",
    "# Commit changes and close the connection\n",
    "conn.commit()\n",
    "conn.close()\n",
    "\n",
    "print(dfls)\n",
    "\n"
   ]
  }
 ],
 "metadata": {
  "kernelspec": {
   "display_name": "base",
   "language": "python",
   "name": "python3"
  },
  "language_info": {
   "codemirror_mode": {
    "name": "ipython",
    "version": 3
   },
   "file_extension": ".py",
   "mimetype": "text/x-python",
   "name": "python",
   "nbconvert_exporter": "python",
   "pygments_lexer": "ipython3",
   "version": "3.9.15"
  }
 },
 "nbformat": 4,
 "nbformat_minor": 2
}
