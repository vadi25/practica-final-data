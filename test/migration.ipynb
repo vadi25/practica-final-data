{
 "cells": [
  {
   "cell_type": "code",
   "execution_count": 1,
   "metadata": {},
   "outputs": [],
   "source": [
    "import pandas as pd\n",
    "import sqlite3\n",
    "\n",
    "# Path to your CSV file\n",
    "csv_file_path = '../data/merged_skills_data.csv'\n",
    "\n",
    "# Read CSV into a Pandas DataFrame\n",
    "df = pd.read_csv(csv_file_path)\n",
    "\n",
    "# Path to the SQLite database file\n",
    "db_file_path = '../data/merged_skills_data.db'\n",
    "\n",
    "# Establish a connection to the SQLite database\n",
    "conn = sqlite3.connect(db_file_path)\n",
    "\n",
    "# Write the DataFrame to a SQLite table\n",
    "df.to_sql('Skill', conn, index=False, if_exists='replace')\n",
    "\n",
    "# Commit changes and close the connection\n",
    "conn.commit()\n",
    "conn.close()\n",
    "\n",
    "\n"
   ]
  }
 ],
 "metadata": {
  "kernelspec": {
   "display_name": "base",
   "language": "python",
   "name": "python3"
  },
  "language_info": {
   "codemirror_mode": {
    "name": "ipython",
    "version": 3
   },
   "file_extension": ".py",
   "mimetype": "text/x-python",
   "name": "python",
   "nbconvert_exporter": "python",
   "pygments_lexer": "ipython3",
   "version": "3.9.15"
  }
 },
 "nbformat": 4,
 "nbformat_minor": 2
}
